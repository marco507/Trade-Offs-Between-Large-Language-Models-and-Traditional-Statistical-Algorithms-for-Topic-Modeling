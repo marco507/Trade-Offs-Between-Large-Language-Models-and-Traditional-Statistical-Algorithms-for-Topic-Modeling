{
 "cells": [
  {
   "cell_type": "markdown",
   "metadata": {},
   "source": [
    "# Preprocess Notebook"
   ]
  },
  {
   "cell_type": "code",
   "execution_count": null,
   "metadata": {},
   "outputs": [],
   "source": [
    "import os\n",
    "from helper import extract_keywords, sample_csv, dataset_stats"
   ]
  },
  {
   "cell_type": "code",
   "execution_count": null,
   "metadata": {},
   "outputs": [],
   "source": [
    "prompt = \"\"\"\n",
    "Keyword Extraction prompt\n",
    "\"\"\""
   ]
  },
  {
   "cell_type": "markdown",
   "metadata": {},
   "source": [
    "## BBC News Business"
   ]
  },
  {
   "cell_type": "code",
   "execution_count": null,
   "metadata": {},
   "outputs": [],
   "source": [
    "dataset = 'BBC_News'"
   ]
  },
  {
   "cell_type": "markdown",
   "metadata": {},
   "source": [
    "### TTMs"
   ]
  },
  {
   "cell_type": "code",
   "execution_count": null,
   "metadata": {},
   "outputs": [],
   "source": [
    "# Join the BBC business news text files into a single file\n",
    "input_path = os.path.join('Data/Raw', dataset, 'business')\n",
    "output_path = os.path.join('Data/Processed', dataset, 'TTM', dataset + '.txt')\n",
    "\n",
    "corpus = []\n",
    "for file in os.listdir(input_path):\n",
    "    file_path = os.path.join(input_path, file)\n",
    "    \n",
    "    with open(file_path) as f:\n",
    "        document = f.read()\n",
    "\n",
    "    corpus.append(document.replace('\\n', ' ').strip())"
   ]
  },
  {
   "cell_type": "code",
   "execution_count": null,
   "metadata": {},
   "outputs": [],
   "source": [
    "with open(output_path, 'w') as f:\n",
    "    f.write('\\n'.join(corpus))\n",
    "\n",
    "average_count, num_strings, total_words = dataset_stats(corpus)\n",
    "print('- Dataset Characteristics -')\n",
    "print(\"Number of documents:\", num_strings)\n",
    "print(\"Average word count:\", average_count)\n",
    "print(\"Total words:\", total_words)"
   ]
  },
  {
   "cell_type": "markdown",
   "metadata": {},
   "source": [
    "### LLM"
   ]
  },
  {
   "cell_type": "code",
   "execution_count": null,
   "metadata": {},
   "outputs": [],
   "source": [
    "context='finance news article'\n",
    "extract_keywords(dataset, prompt, context)"
   ]
  },
  {
   "cell_type": "code",
   "execution_count": null,
   "metadata": {},
   "outputs": [],
   "source": [
    "with open(f'Data/Processed/{dataset}/LLM/{dataset}.txt') as f:\n",
    "    documents = f.read().split('\\n')\n",
    "\n",
    "average_count, num_strings, total_words = dataset_stats(documents)\n",
    "print('- Dataset Characteristics -')\n",
    "print(\"Number of documents:\", num_strings)\n",
    "print(\"Average word count:\", average_count)\n",
    "print(\"Total words:\", total_words)"
   ]
  },
  {
   "cell_type": "markdown",
   "metadata": {},
   "source": [
    "## Arxiv Abstracts"
   ]
  },
  {
   "cell_type": "code",
   "execution_count": null,
   "metadata": {},
   "outputs": [],
   "source": [
    "dataset = 'Arxiv_Abstracts'"
   ]
  },
  {
   "cell_type": "markdown",
   "metadata": {},
   "source": [
    "### TTM"
   ]
  },
  {
   "cell_type": "code",
   "execution_count": null,
   "metadata": {},
   "outputs": [],
   "source": [
    "num_samples = 500\n",
    "columns_to_retain = ['summaries'] # Abstracts\n",
    "\n",
    "sample_csv(dataset, num_samples, columns_to_retain)"
   ]
  },
  {
   "cell_type": "code",
   "execution_count": null,
   "metadata": {},
   "outputs": [],
   "source": [
    "with open(f'Data/Processed/{dataset}/TTM/{dataset}.txt') as f:\n",
    "    documents = f.read().split('\\n')\n",
    "\n",
    "average_count, num_strings, total_words = dataset_stats(documents)\n",
    "print('- Dataset Characteristics -')\n",
    "print(\"Number of documents:\", num_strings)\n",
    "print(\"Average word count:\", average_count)\n",
    "print(\"Total words:\", total_words)"
   ]
  },
  {
   "cell_type": "markdown",
   "metadata": {},
   "source": [
    "### LLM"
   ]
  },
  {
   "cell_type": "code",
   "execution_count": null,
   "metadata": {},
   "outputs": [],
   "source": [
    "context='scientific abstract'\n",
    "extract_keywords(dataset, prompt, context)"
   ]
  },
  {
   "cell_type": "code",
   "execution_count": null,
   "metadata": {},
   "outputs": [],
   "source": [
    "with open(f'Data/Processed/{dataset}/LLM/{dataset}.txt') as f:\n",
    "    documents = f.read().split('\\n')\n",
    "\n",
    "average_count, num_strings, total_words = dataset_stats(documents)\n",
    "print('- Dataset Characteristics -')\n",
    "print(\"Number of documents:\", num_strings)\n",
    "print(\"Average word count:\", average_count)\n",
    "print(\"Total words:\", total_words)"
   ]
  },
  {
   "cell_type": "markdown",
   "metadata": {},
   "source": [
    "## ChatGPT_Tweets"
   ]
  },
  {
   "cell_type": "code",
   "execution_count": null,
   "metadata": {},
   "outputs": [],
   "source": [
    "dataset = 'ChatGPT_Tweets'"
   ]
  },
  {
   "cell_type": "markdown",
   "metadata": {},
   "source": [
    "### TTM"
   ]
  },
  {
   "cell_type": "code",
   "execution_count": null,
   "metadata": {},
   "outputs": [],
   "source": [
    "num_samples = 1000\n",
    "columns_to_retain = ['content'] # Tweets\n",
    "\n",
    "sample_csv(dataset, num_samples, columns_to_retain)"
   ]
  },
  {
   "cell_type": "code",
   "execution_count": null,
   "metadata": {},
   "outputs": [],
   "source": [
    "with open(f'Data/Processed/{dataset}/TTM/{dataset}.txt', encoding='utf-8') as f:\n",
    "    documents = f.read().split('\\n')\n",
    "\n",
    "average_count, num_strings, total_words = dataset_stats(documents)\n",
    "print('- Dataset Characteristics -')\n",
    "print(\"Number of documents:\", num_strings)\n",
    "print(\"Average word count:\", average_count)\n",
    "print(\"Total words:\", total_words)"
   ]
  },
  {
   "cell_type": "markdown",
   "metadata": {},
   "source": [
    "### LLM"
   ]
  },
  {
   "cell_type": "code",
   "execution_count": null,
   "metadata": {},
   "outputs": [],
   "source": [
    "context='tweet about a large language model'\n",
    "extract_keywords(dataset, prompt, context)"
   ]
  },
  {
   "cell_type": "code",
   "execution_count": null,
   "metadata": {},
   "outputs": [],
   "source": [
    "with open(f'Data/Processed/{dataset}/LLM/{dataset}.txt', encoding='utf-8') as f:\n",
    "    documents = f.read().split('\\n')\n",
    "\n",
    "average_count, num_strings, total_words = dataset_stats(documents)\n",
    "print('- Dataset Characteristics -')\n",
    "print(\"Number of documents:\", num_strings)\n",
    "print(\"Average word count:\", average_count)\n",
    "print(\"Total words:\", total_words)"
   ]
  }
 ],
 "metadata": {
  "kernelspec": {
   "display_name": "Python 3 (ipykernel)",
   "language": "python",
   "name": "python3"
  },
  "language_info": {
   "codemirror_mode": {
    "name": "ipython",
    "version": 3
   },
   "file_extension": ".py",
   "mimetype": "text/x-python",
   "name": "python",
   "nbconvert_exporter": "python",
   "pygments_lexer": "ipython3",
   "version": "3.9.0"
  }
 },
 "nbformat": 4,
 "nbformat_minor": 4
}
