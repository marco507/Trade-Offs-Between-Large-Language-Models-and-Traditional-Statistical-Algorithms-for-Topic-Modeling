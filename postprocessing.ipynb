{
 "cells": [
  {
   "cell_type": "markdown",
   "id": "ac5f76dd-0242-4ce6-aa27-f33304ae9f14",
   "metadata": {},
   "source": [
    "# Postprocess Notebook"
   ]
  },
  {
   "cell_type": "code",
   "execution_count": null,
   "id": "76e12c24-a209-465c-a548-90d04df95fcc",
   "metadata": {},
   "outputs": [],
   "source": [
    "import os\n",
    "from tqdm import tqdm\n",
    "from helper import postprocess_topics\n",
    "import pandas as pd"
   ]
  },
  {
   "cell_type": "markdown",
   "id": "5d06fb65-e133-4a72-b04a-07fd2bbcfc03",
   "metadata": {},
   "source": [
    "### Rating"
   ]
  },
  {
   "cell_type": "code",
   "execution_count": null,
   "id": "0fb4548d-f4d8-4789-8260-6f0895717633",
   "metadata": {},
   "outputs": [],
   "source": [
    "input_folder = 'Data/Topics/Original'\n",
    "output_folder = 'Data/Topics/Processed/Ratings'"
   ]
  },
  {
   "cell_type": "code",
   "execution_count": null,
   "id": "d1d958e8-eb13-4c91-81a7-ccb60a02ba1a",
   "metadata": {},
   "outputs": [],
   "source": [
    "prompt = \"\"\"\n",
    "Coherence rating prompt\n",
    "\"\"\""
   ]
  },
  {
   "cell_type": "code",
   "execution_count": null,
   "id": "618095c4-e3c1-4ced-99a5-ffb398bc6913",
   "metadata": {},
   "outputs": [],
   "source": [
    "postprocess_topics(input_folder, output_folder, prompt)"
   ]
  },
  {
   "cell_type": "markdown",
   "id": "f1175973-69bd-42c6-8b06-77f1bce78f72",
   "metadata": {},
   "source": [
    "### Word Intrusion"
   ]
  },
  {
   "cell_type": "code",
   "execution_count": null,
   "id": "3635a153-549c-411e-a8b3-79999064b198",
   "metadata": {},
   "outputs": [],
   "source": [
    "input_folder = 'Data/Topics/Original'\n",
    "output_folder = 'Data/Topics/Processed/Intrusion'"
   ]
  },
  {
   "cell_type": "code",
   "execution_count": null,
   "id": "228e1e38-5b3b-405f-a3f5-49db9994b347",
   "metadata": {},
   "outputs": [],
   "source": [
    "prompt = \"\"\"\n",
    "Word intrusion prompt\n",
    "\"\"\""
   ]
  },
  {
   "cell_type": "code",
   "execution_count": null,
   "id": "7373ecc3-fbc6-45e7-9691-b9f177f1a885",
   "metadata": {},
   "outputs": [],
   "source": [
    "postprocess_topics(input_folder, output_folder, prompt)"
   ]
  },
  {
   "cell_type": "markdown",
   "id": "7e89b276-ba50-4380-b65a-114271c8ac2c",
   "metadata": {},
   "source": [
    "## Labeling"
   ]
  },
  {
   "cell_type": "code",
   "execution_count": null,
   "id": "286d26fb-91ae-429a-892c-d716d92d4419",
   "metadata": {},
   "outputs": [],
   "source": [
    "input_folder = 'Data/Topics/Original'\n",
    "output_folder = 'Data/Topics/Processed/Labels'"
   ]
  },
  {
   "cell_type": "code",
   "execution_count": null,
   "id": "a3247a7a-19ed-4b47-aa5a-184f31edf684",
   "metadata": {},
   "outputs": [],
   "source": [
    "prompt = \"\"\"\n",
    "Topic labels prompt\n",
    "\"\"\""
   ]
  },
  {
   "cell_type": "code",
   "execution_count": null,
   "id": "77bfa759-3847-471f-8315-7d0baed547f2",
   "metadata": {},
   "outputs": [],
   "source": [
    "postprocess_topics(input_folder, output_folder, prompt)"
   ]
  },
  {
   "cell_type": "markdown",
   "id": "2bbde3f4-6500-4f42-9b4e-c203aa5f9d83",
   "metadata": {},
   "source": [
    "### Result Compilation"
   ]
  },
  {
   "cell_type": "code",
   "execution_count": 28,
   "id": "3e0bf7c7-c7c2-400f-8db2-907bd31d3e81",
   "metadata": {},
   "outputs": [],
   "source": [
    "input_folder = 'Data/Topics/Processed/'\n",
    "result_folders = ['Ratings', 'Intrusion']\n",
    "output_folder = 'Data/Topics/Processed/'"
   ]
  },
  {
   "cell_type": "markdown",
   "id": "9cd4fa5b-c7c1-46a3-ba9c-557056c512ca",
   "metadata": {},
   "source": [
    "### Ratings"
   ]
  },
  {
   "cell_type": "code",
   "execution_count": 32,
   "id": "8cb0e390-7965-4277-9caa-63ffdeb97db3",
   "metadata": {},
   "outputs": [],
   "source": [
    "result_folder = os.path.join(input_folder, result_folders[0])\n",
    "\n",
    "datasets = []\n",
    "vectorizers = []\n",
    "models = []\n",
    "ratings = []\n",
    "\n",
    "def map_values(value):\n",
    "    if value == 'Very Related':\n",
    "        return 1\n",
    "    elif value == 'Somewhat Related':\n",
    "        return 2\n",
    "    elif value == 'Not Very Related':\n",
    "        return 3\n",
    "\n",
    "for file in os.listdir(result_folder):\n",
    "    file_path = os.path.join(result_folder, file)\n",
    "\n",
    "    rating_df = pd.read_csv(file_path, header=None)\n",
    "    rating_df['Rating'] = rating_df[0].apply(map_values)\n",
    "    average_rating = round(rating_df['Rating'].mean(), 2)\n",
    "\n",
    "    attributes = file.split('-')\n",
    "    datasets.append(attributes[0].split('_')[-1])\n",
    "    vectorizers.append(attributes[1])\n",
    "    models.append(attributes[-1].replace('.csv', ''))\n",
    "    ratings.append(average_rating)\n",
    "\n",
    "df = pd.DataFrame({'Dataset': datasets, 'Vectorizer': vectorizers, 'Model': models, 'Rating': ratings})"
   ]
  },
  {
   "cell_type": "markdown",
   "id": "358f4beb-ae9b-46f6-b956-0bd369943d08",
   "metadata": {},
   "source": [
    "### Word Intrusion"
   ]
  },
  {
   "cell_type": "code",
   "execution_count": 37,
   "id": "cc4d9a72-6bdc-405a-ba20-aa340b44239d",
   "metadata": {},
   "outputs": [],
   "source": [
    "result_folder = os.path.join(input_folder, result_folders[1])\n",
    "\n",
    "intrusions = []\n",
    "\n",
    "for file in os.listdir(result_folder):\n",
    "    file_path = os.path.join(result_folder, file)\n",
    "\n",
    "    intrusion_df = pd.read_csv(file_path, header=None)\n",
    "    average_intrusions = intrusion_df[0].mean()\n",
    "    intrusions.append(round(average_intrusions, 2))\n",
    "\n",
    "df['Intrusions'] = intrusions"
   ]
  },
  {
   "cell_type": "code",
   "execution_count": 40,
   "id": "a5e8fff7-0db5-4805-b8fa-d9ad778c1887",
   "metadata": {},
   "outputs": [],
   "source": [
    "df.to_csv('Data/Topics/Processed/compilation.csv', index=False)"
   ]
  },
  {
   "cell_type": "markdown",
   "id": "e39a3a3a-4f7b-4516-836f-3f9f966569c1",
   "metadata": {},
   "source": [
    "### Topic Words and Labels"
   ]
  },
  {
   "cell_type": "code",
   "execution_count": 59,
   "id": "c1a05ef1-2f6d-41f3-bb23-8b50aac70b84",
   "metadata": {},
   "outputs": [],
   "source": [
    "topic_folder = 'Data/Topics/Original'\n",
    "label_folder = 'Data/Topics/Processed/Labels'\n",
    "output_folder = 'Data/Topics/Processed/Topics and Labels'"
   ]
  },
  {
   "cell_type": "code",
   "execution_count": 60,
   "id": "417fd16a-1351-4408-9f91-7811f67cfee5",
   "metadata": {},
   "outputs": [],
   "source": [
    "for file in os.listdir(topic_folder):\n",
    "\n",
    "    topic_file_path = os.path.join(topic_folder, file)\n",
    "    \n",
    "    with open(topic_file_path) as f:\n",
    "        topics = f.read().split('\\n')\n",
    "        \n",
    "    topics = [topic for topic in topics if topic]\n",
    "\n",
    "    df = pd.DataFrame({'Topics': topics})\n",
    "\n",
    "    label_file = topic_file_path.split('\\\\')[-1].replace('.txt', '.csv')\n",
    "    label_file_path = os.path.join(label_folder, label_file)\n",
    "\n",
    "    labels = pd.read_csv(label_file_path, header=None)\n",
    "    labels = labels[0].values.tolist()\n",
    "\n",
    "    df['Labels'] = labels\n",
    "\n",
    "    save_path = os.path.join(output_folder, label_file)\n",
    "    df.to_csv(save_path, index=False)"
   ]
  }
 ],
 "metadata": {
  "kernelspec": {
   "display_name": "Python 3 (ipykernel)",
   "language": "python",
   "name": "python3"
  },
  "language_info": {
   "codemirror_mode": {
    "name": "ipython",
    "version": 3
   },
   "file_extension": ".py",
   "mimetype": "text/x-python",
   "name": "python",
   "nbconvert_exporter": "python",
   "pygments_lexer": "ipython3",
   "version": "3.9.0"
  }
 },
 "nbformat": 4,
 "nbformat_minor": 5
}
